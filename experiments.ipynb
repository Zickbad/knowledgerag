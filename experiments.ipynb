{
  "cells": [
    {
      "cell_type": "code",
      "execution_count": null,
      "id": "de817808-2e50-4c6c-95e1-a01ca2273406",
      "metadata": {
        "scrolled": true,
        "id": "de817808-2e50-4c6c-95e1-a01ca2273406"
      },
      "outputs": [],
      "source": [
        "import papermill as pm\n",
        "import pandas as pd\n",
        "import tempfile\n",
        "\n",
        "n = 31\n",
        "\n",
        "variables = pd.DataFrame([[pd.NA, pd.NA, pd.NA]], columns=[\"config\", \"temp\", \"i\"])\n",
        "\n",
        "comb = [[0,0,0,6], [0,0,1,6], [0,1,0,6], [0,1,1,6], [0,2,0,6], [0,2,1,6],\n",
        "        [1,0,0,6], [1,0,1,6], [1,1,0,6], [1,1,1,6], [1,2,0,6], [1,2,1,6],\n",
        "        [2,0,0,6], [2,0,1,6], [2,1,0,6], [2,1,1,6], [2,2,0,6], [2,2,1,6]]\n",
        "\n",
        "#comb = [[3,0,0,6], [3,0,1,6], [3,1,0,6], [3,1,1,6], [3,2,0,6], [3,2,1,6]]\n",
        "\n",
        "#comb = [[2, 1, 0, 0], [2, 1, 0, 1], [2, 1, 0, 2], [2, 1, 0, 3], [2, 1, 0, 4], [2, 1, 0, 5], [2, 1, 0, 6], [2, 1, 0, 7], [2, 1, 0, 8], [2, 1, 0, 9]]\n",
        "#        [2, 2, 0, 0], [2, 2, 0, 1], [2, 2, 0, 2], [2, 2, 0, 3], [2, 2, 0, 4], [2, 2, 0, 5], [2, 2, 0, 6], [2, 2, 0, 7], [2, 2, 0, 8], [2, 2, 0, 9],\n",
        "#        [1, 0, 1, 0], [1, 0, 1, 1], [1, 0, 1, 2], [1, 0, 1, 3], [1, 0, 1, 4], [1, 0, 1, 5], [1, 0, 1, 6], [1, 0, 1, 7], [1, 0, 1, 8], [1, 0, 1, 9]]\n",
        "\n",
        "# config.txt line 4: [0.1, 0.2, 0.3, 0.4, 0.5, 0.6, 0.7, 0.8, 0.9, 1]\n",
        "\n",
        "for config in comb:\n",
        "    for i in range(n):\n",
        "        variables.iloc[0,0] = config\n",
        "        variables.iloc[0,1] = i+1\n",
        "        #variables.iloc[0,2] = i+1\n",
        "        variables.to_csv(\"../program2/variables.csv\", index=False)\n",
        "        print(f\"Iteración {i+1}: Ejecutando combinación {variables.iloc[0,0]}\")\n",
        "\n",
        "        with tempfile.NamedTemporaryFile(suffix='.ipynb') as tmp:\n",
        "            pm.execute_notebook(\n",
        "                #\"../program2/NewPipeline.ipynb\",      # Notebook de entrada\n",
        "                \"../program2/PipelineGraphs.ipynb\",\n",
        "                tmp.name\n",
        "            )\n",
        "\n",
        "print(\"End...\")"
      ]
    }
  ],
  "metadata": {
    "kernelspec": {
      "display_name": "Python 3 (ipykernel)",
      "language": "python",
      "name": "python3"
    },
    "language_info": {
      "codemirror_mode": {
        "name": "ipython",
        "version": 3
      },
      "file_extension": ".py",
      "mimetype": "text/x-python",
      "name": "python",
      "nbconvert_exporter": "python",
      "pygments_lexer": "ipython3",
      "version": "3.12.6"
    },
    "colab": {
      "provenance": []
    }
  },
  "nbformat": 4,
  "nbformat_minor": 5
}